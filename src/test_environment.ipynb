{
 "cells": [
  {
   "cell_type": "code",
   "execution_count": 1,
   "metadata": {},
   "outputs": [],
   "source": [
    "from envs.citysim import CitySim\n",
    "from agents.test_agents import RandomAgent\n",
    "\n",
    "import os\n",
    "from pathlib import Path"
   ]
  },
  {
   "cell_type": "code",
   "execution_count": 2,
   "metadata": {},
   "outputs": [],
   "source": [
    "project_root = Path(os.getcwd()).parent"
   ]
  },
  {
   "cell_type": "code",
   "execution_count": 3,
   "metadata": {},
   "outputs": [],
   "source": [
    "city = CitySim(\n",
    "    city_config=project_root/\"data/city_defaults.yaml\",\n",
    "    city_geometry=project_root/\"data/madrid_districts_processed/madrid_districts_processed.shp\",\n",
    ")"
   ]
  },
  {
   "cell_type": "code",
   "execution_count": 4,
   "metadata": {},
   "outputs": [],
   "source": [
    "agent = RandomAgent(n_hospitals=len(city.hospitals)-1, n_severity_levels=city.severity_levels)"
   ]
  },
  {
   "cell_type": "code",
   "execution_count": 15,
   "metadata": {
    "tags": [
     "outputPrepend",
     "outputPrepend",
     "outputPrepend",
     "outputPrepend"
    ]
   },
   "outputs": [
    {
     "output_type": "stream",
     "name": "stdout",
     "text": "CPU times: user 21min 48s, sys: 2.45 s, total: 21min 51s\nWall time: 21min 53s\n"
    }
   ],
   "source": [
    "%%time\n",
    "\n",
    "iterations = 100000\n",
    "\n",
    "obs = city.reset()\n",
    "total_reward = 0\n",
    "for i in range(iterations):\n",
    "    action = agent(obs)\n",
    "    obs, reward, done, info = city.step(action)\n",
    "    total_reward += reward"
   ]
  },
  {
   "cell_type": "code",
   "execution_count": 9,
   "metadata": {},
   "outputs": [
    {
     "output_type": "execute_result",
     "data": {
      "text/plain": "datetime.datetime(2020, 1, 7, 22, 40)"
     },
     "metadata": {},
     "execution_count": 9
    }
   ],
   "source": [
    "city.time"
   ]
  },
  {
   "cell_type": "code",
   "execution_count": 7,
   "metadata": {},
   "outputs": [
    {
     "output_type": "execute_result",
     "data": {
      "text/plain": "int"
     },
     "metadata": {},
     "execution_count": 7
    }
   ],
   "source": [
    "from datetime import timedelta\n",
    "a = timedelta(seconds=3)\n",
    "type(a.seconds)"
   ]
  },
  {
   "cell_type": "code",
   "execution_count": 14,
   "metadata": {},
   "outputs": [
    {
     "output_type": "execute_result",
     "data": {
      "text/plain": "datetime.datetime(2020, 1, 7, 22, 40)"
     },
     "metadata": {},
     "execution_count": 14
    }
   ],
   "source": [
    "city.time"
   ]
  },
  {
   "cell_type": "code",
   "execution_count": null,
   "metadata": {},
   "outputs": [],
   "source": []
  }
 ],
 "metadata": {
  "language_info": {
   "codemirror_mode": {
    "name": "ipython",
    "version": 3
   },
   "file_extension": ".py",
   "mimetype": "text/x-python",
   "name": "python",
   "nbconvert_exporter": "python",
   "pygments_lexer": "ipython3",
   "version": "3.7.4-final"
  },
  "orig_nbformat": 2,
  "kernelspec": {
   "name": "python37464bitsamuraiconda71a91ecb5ba34c9db2fbbd934963d81d",
   "display_name": "Python 3.7.4 64-bit ('samurai': conda)"
  }
 },
 "nbformat": 4,
 "nbformat_minor": 2
}