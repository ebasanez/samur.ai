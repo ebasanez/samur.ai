{
 "cells": [
  {
   "cell_type": "code",
   "execution_count": 1,
   "metadata": {},
   "outputs": [],
   "source": [
    "import pickle\n",
    "\n",
    "import pandas as pd\n",
    "import matplotlib.pyplot as plt\n",
    "\n",
    "from sklearn.model_selection import train_test_split\n",
    "from sklearn import linear_model\n",
    "\n",
    "SEP = ';'"
   ]
  },
  {
   "cell_type": "code",
   "execution_count": 2,
   "metadata": {},
   "outputs": [],
   "source": [
    "def manipulate_data(df):\n",
    "    df['weekday'] = df['fecha'].apply(lambda x: x.weekday())\n",
    "    df['day'] = df['fecha'].apply(lambda x: x.day)\n",
    "    df['month'] = df['fecha'].apply(lambda x: x.month)\n",
    "    df['year'] = df['fecha'].apply(lambda x: x.year)\n",
    "    df['hour-minute'] = df['fecha'].apply(lambda x: x.strftime('%H:%M'))\n",
    "    return df"
   ]
  },
  {
   "cell_type": "code",
   "execution_count": 3,
   "metadata": {},
   "outputs": [],
   "source": [
    "def one_hot_column(df, column):\n",
    "    # Get one hot encoding of column\n",
    "    one_hot = pd.get_dummies(df[column], prefix=column)\n",
    "    # Drop column as it is now encoded\n",
    "    df = df.drop(column, axis=1)\n",
    "    # Join the encoded df\n",
    "    df = df.join(one_hot)\n",
    "\n",
    "    return df"
   ]
  },
  {
   "cell_type": "code",
   "execution_count": 4,
   "metadata": {},
   "outputs": [],
   "source": [
    "def one_hot(df):\n",
    "    df = one_hot_column(df, 'day')\n",
    "    df = one_hot_column(df, 'month')\n",
    "    df = one_hot_column(df, 'year')\n",
    "    df = one_hot_column(df, 'hour-minute')\n",
    "    df = one_hot_column(df, 'weekday')\n",
    "\n",
    "    return df"
   ]
  },
  {
   "cell_type": "code",
   "execution_count": 5,
   "metadata": {},
   "outputs": [],
   "source": [
    "historical_data = pd.read_csv('../data/traffic_data.csv', sep=SEP, parse_dates=[0])\n",
    "historical_data = manipulate_data(historical_data)\n",
    "historical_data = historical_data.drop(columns='fecha')"
   ]
  },
  {
   "cell_type": "code",
   "execution_count": 6,
   "metadata": {},
   "outputs": [],
   "source": [
    "historical_data = one_hot(historical_data)"
   ]
  },
  {
   "cell_type": "code",
   "execution_count": 7,
   "metadata": {},
   "outputs": [
    {
     "name": "stdout",
     "output_type": "stream",
     "text": [
      "Distrito 1, score = 0.6747545365434737\n",
      "Distrito 2, score = 0.7673935406342304\n",
      "Distrito 3, score = 0.7681768574547326\n",
      "Distrito 4, score = 0.7437311708238212\n",
      "Distrito 5, score = 0.7423412145581689\n",
      "Distrito 6, score = 0.7421780173026371\n",
      "Distrito 7, score = 0.7143135561290279\n",
      "Distrito 8, score = 0.7591077410935851\n",
      "Distrito 9, score = 0.756398186914588\n",
      "Distrito 10, score = 0.7494589638057106\n",
      "Distrito 11, score = 0.7652698837869083\n",
      "Distrito 12, score = 0.7653335417719397\n",
      "Distrito 13, score = 0.8073217847403038\n",
      "Distrito 14, score = 0.772659085626749\n",
      "Distrito 15, score = 0.7751606872030194\n",
      "Distrito 16, score = 0.7554505544847308\n",
      "Distrito 17, score = 0.764445362859506\n",
      "Distrito 18, score = 0.8168045093396136\n",
      "Distrito 19, score = 0.7845237831501087\n",
      "Distrito 20, score = 0.7711449146050519\n",
      "Distrito 21, score = 0.7779369990334675\n",
      "Score promedio = 0.7606621377076845\n"
     ]
    }
   ],
   "source": [
    "model_by_district = {}\n",
    "total_score = 0\n",
    "for distrito, grouped in historical_data.groupby('distrito'):\n",
    "    y = grouped.pop('carga')\n",
    "    X = grouped\n",
    "    X_train, X_test, y_train, y_test = train_test_split(X, y, test_size=0.25, random_state=42)\n",
    "    \n",
    "    model = linear_model.LinearRegression()\n",
    "    \n",
    "    model.fit(X_train, y_train)\n",
    "    score_test = model.score(X_test, y_test)\n",
    "    \n",
    "    model_by_district[distrito] = model    \n",
    "    filename = 'lr_model_{}.sav'.format(distrito)\n",
    "    pickle.dump(model, open(filename, 'wb'))\n",
    "    \n",
    "    total_score += score_test\n",
    "    \n",
    "    print('Distrito {}, score = {}'.format(distrito, score_test))\n",
    "    \n",
    "print('Score promedio = {}'.format(total_score / 21))"
   ]
  },
  {
   "cell_type": "code",
   "execution_count": null,
   "metadata": {},
   "outputs": [],
   "source": []
  }
 ],
 "metadata": {
  "kernelspec": {
   "display_name": "Python 3",
   "language": "python",
   "name": "python3"
  },
  "language_info": {
   "codemirror_mode": {
    "name": "ipython",
    "version": 3
   },
   "file_extension": ".py",
   "mimetype": "text/x-python",
   "name": "python",
   "nbconvert_exporter": "python",
   "pygments_lexer": "ipython3",
   "version": "3.7.6"
  }
 },
 "nbformat": 4,
 "nbformat_minor": 4
}
